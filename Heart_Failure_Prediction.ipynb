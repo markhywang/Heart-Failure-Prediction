{
 "cells": [
  {
   "cell_type": "markdown",
   "id": "a9565136-87b2-4f17-b5eb-4fad56d8a629",
   "metadata": {},
   "source": [
    "# Heart Failure Prediction using Neural Networks\n",
    "\n",
    "Cardiovascular diseases (CVDs) are the number 1 cause of death globally, taking an estimated 17.9 million lives each year, which accounts for 31% of all deaths worldwide. Four out of 5CVD deaths are due to heart attacks and strokes, and one-third of these deaths occur prematurely in people under 70 years of age. Heart failure is a common event caused by CVDs and this dataset contains 11 features that can be used to predict a possible heart disease.\n",
    "\n",
    "People with cardiovascular disease or who are at high cardiovascular risk (due to the presence of one or more risk factors such as hypertension, diabetes, hyperlipidaemia or already established disease) need early detection and management wherein a machine learning model can be of great help.\n",
    "\n",
    "In this notebook, a vanilla neural network with rectified units (ReLU) will be used to classify whether a certain individual is likely at risk of heart failure given attribute and health background information."
   ]
  },
  {
   "cell_type": "markdown",
   "id": "2b9648b3-b1b5-4894-bfeb-3b45219b608c",
   "metadata": {},
   "source": [
    "## 0. Imports & Hyperparameters"
   ]
  },
  {
   "cell_type": "code",
   "execution_count": 1,
   "id": "82a16583-df97-4f44-837c-95de1eb8cd51",
   "metadata": {},
   "outputs": [
    {
     "data": {
      "text/plain": [
       "'2.5.1+cpu'"
      ]
     },
     "execution_count": 1,
     "metadata": {},
     "output_type": "execute_result"
    }
   ],
   "source": [
    "# Necessary Imports\n",
    "import torch\n",
    "from torch import nn\n",
    "from torch.utils.data import Dataset\n",
    "from torch.utils.data import DataLoader\n",
    "import pandas as pd\n",
    "import numpy as np\n",
    "import matplotlib.pyplot as plt\n",
    "from copy import deepcopy as dc\n",
    "from sklearn.preprocessing import MinMaxScaler\n",
    "\n",
    "# Set random seed for deterministic random values (42 is just a common number to set)\n",
    "torch.manual_seed(42)\n",
    "\n",
    "# Hyperparameters\n",
    "LEARNING_RATE = 0.001\n",
    "EPOCHS = 10\n",
    "HIDDEN_SIZE = 128\n",
    "TRAIN_TEST_SPLIT = 0.80\n",
    "BATCH_SIZE = 64\n",
    "PLOT_STEPS = 1\n",
    "PRINT_STEPS = 1\n",
    "\n",
    "# Check PyTorch version\n",
    "torch.__version__"
   ]
  },
  {
   "cell_type": "markdown",
   "id": "a9a3ef54-0b3b-43f1-94a9-1563925767bf",
   "metadata": {},
   "source": [
    "## 1. Data Processing"
   ]
  },
  {
   "cell_type": "code",
   "execution_count": 2,
   "id": "fed629df-d187-4997-8424-797177791aed",
   "metadata": {},
   "outputs": [
    {
     "data": {
      "text/html": [
       "<div>\n",
       "<style scoped>\n",
       "    .dataframe tbody tr th:only-of-type {\n",
       "        vertical-align: middle;\n",
       "    }\n",
       "\n",
       "    .dataframe tbody tr th {\n",
       "        vertical-align: top;\n",
       "    }\n",
       "\n",
       "    .dataframe thead th {\n",
       "        text-align: right;\n",
       "    }\n",
       "</style>\n",
       "<table border=\"1\" class=\"dataframe\">\n",
       "  <thead>\n",
       "    <tr style=\"text-align: right;\">\n",
       "      <th></th>\n",
       "      <th>Age</th>\n",
       "      <th>Sex</th>\n",
       "      <th>ChestPainType</th>\n",
       "      <th>RestingBP</th>\n",
       "      <th>Cholesterol</th>\n",
       "      <th>FastingBS</th>\n",
       "      <th>RestingECG</th>\n",
       "      <th>MaxHR</th>\n",
       "      <th>ExerciseAngina</th>\n",
       "      <th>Oldpeak</th>\n",
       "      <th>ST_Slope</th>\n",
       "      <th>HeartDisease</th>\n",
       "    </tr>\n",
       "  </thead>\n",
       "  <tbody>\n",
       "    <tr>\n",
       "      <th>0</th>\n",
       "      <td>40</td>\n",
       "      <td>M</td>\n",
       "      <td>ATA</td>\n",
       "      <td>140</td>\n",
       "      <td>289</td>\n",
       "      <td>0</td>\n",
       "      <td>Normal</td>\n",
       "      <td>172</td>\n",
       "      <td>N</td>\n",
       "      <td>0.0</td>\n",
       "      <td>Up</td>\n",
       "      <td>0</td>\n",
       "    </tr>\n",
       "    <tr>\n",
       "      <th>1</th>\n",
       "      <td>49</td>\n",
       "      <td>F</td>\n",
       "      <td>NAP</td>\n",
       "      <td>160</td>\n",
       "      <td>180</td>\n",
       "      <td>0</td>\n",
       "      <td>Normal</td>\n",
       "      <td>156</td>\n",
       "      <td>N</td>\n",
       "      <td>1.0</td>\n",
       "      <td>Flat</td>\n",
       "      <td>1</td>\n",
       "    </tr>\n",
       "    <tr>\n",
       "      <th>2</th>\n",
       "      <td>37</td>\n",
       "      <td>M</td>\n",
       "      <td>ATA</td>\n",
       "      <td>130</td>\n",
       "      <td>283</td>\n",
       "      <td>0</td>\n",
       "      <td>ST</td>\n",
       "      <td>98</td>\n",
       "      <td>N</td>\n",
       "      <td>0.0</td>\n",
       "      <td>Up</td>\n",
       "      <td>0</td>\n",
       "    </tr>\n",
       "    <tr>\n",
       "      <th>3</th>\n",
       "      <td>48</td>\n",
       "      <td>F</td>\n",
       "      <td>ASY</td>\n",
       "      <td>138</td>\n",
       "      <td>214</td>\n",
       "      <td>0</td>\n",
       "      <td>Normal</td>\n",
       "      <td>108</td>\n",
       "      <td>Y</td>\n",
       "      <td>1.5</td>\n",
       "      <td>Flat</td>\n",
       "      <td>1</td>\n",
       "    </tr>\n",
       "    <tr>\n",
       "      <th>4</th>\n",
       "      <td>54</td>\n",
       "      <td>M</td>\n",
       "      <td>NAP</td>\n",
       "      <td>150</td>\n",
       "      <td>195</td>\n",
       "      <td>0</td>\n",
       "      <td>Normal</td>\n",
       "      <td>122</td>\n",
       "      <td>N</td>\n",
       "      <td>0.0</td>\n",
       "      <td>Up</td>\n",
       "      <td>0</td>\n",
       "    </tr>\n",
       "  </tbody>\n",
       "</table>\n",
       "</div>"
      ],
      "text/plain": [
       "   Age Sex ChestPainType  RestingBP  Cholesterol  FastingBS RestingECG  MaxHR  \\\n",
       "0   40   M           ATA        140          289          0     Normal    172   \n",
       "1   49   F           NAP        160          180          0     Normal    156   \n",
       "2   37   M           ATA        130          283          0         ST     98   \n",
       "3   48   F           ASY        138          214          0     Normal    108   \n",
       "4   54   M           NAP        150          195          0     Normal    122   \n",
       "\n",
       "  ExerciseAngina  Oldpeak ST_Slope  HeartDisease  \n",
       "0              N      0.0       Up             0  \n",
       "1              N      1.0     Flat             1  \n",
       "2              N      0.0       Up             0  \n",
       "3              Y      1.5     Flat             1  \n",
       "4              N      0.0       Up             0  "
      ]
     },
     "execution_count": 2,
     "metadata": {},
     "output_type": "execute_result"
    }
   ],
   "source": [
    "df = pd.read_csv('data/heart.csv')\n",
    "df.head()"
   ]
  },
  {
   "cell_type": "code",
   "execution_count": 3,
   "id": "281ad073-d576-4118-9be4-cd7857c65dc2",
   "metadata": {},
   "outputs": [
    {
     "data": {
      "text/html": [
       "<div>\n",
       "<style scoped>\n",
       "    .dataframe tbody tr th:only-of-type {\n",
       "        vertical-align: middle;\n",
       "    }\n",
       "\n",
       "    .dataframe tbody tr th {\n",
       "        vertical-align: top;\n",
       "    }\n",
       "\n",
       "    .dataframe thead th {\n",
       "        text-align: right;\n",
       "    }\n",
       "</style>\n",
       "<table border=\"1\" class=\"dataframe\">\n",
       "  <thead>\n",
       "    <tr style=\"text-align: right;\">\n",
       "      <th></th>\n",
       "      <th>Age</th>\n",
       "      <th>RestingBP</th>\n",
       "      <th>Cholesterol</th>\n",
       "      <th>FastingBS</th>\n",
       "      <th>MaxHR</th>\n",
       "      <th>Oldpeak</th>\n",
       "      <th>HeartDisease</th>\n",
       "      <th>Sex_F</th>\n",
       "      <th>Sex_M</th>\n",
       "      <th>ChestPainType_ASY</th>\n",
       "      <th>...</th>\n",
       "      <th>ChestPainType_NAP</th>\n",
       "      <th>ChestPainType_TA</th>\n",
       "      <th>RestingECG_LVH</th>\n",
       "      <th>RestingECG_Normal</th>\n",
       "      <th>RestingECG_ST</th>\n",
       "      <th>ExerciseAngina_N</th>\n",
       "      <th>ExerciseAngina_Y</th>\n",
       "      <th>ST_Slope_Down</th>\n",
       "      <th>ST_Slope_Flat</th>\n",
       "      <th>ST_Slope_Up</th>\n",
       "    </tr>\n",
       "  </thead>\n",
       "  <tbody>\n",
       "    <tr>\n",
       "      <th>0</th>\n",
       "      <td>0.244898</td>\n",
       "      <td>0.70</td>\n",
       "      <td>0.479270</td>\n",
       "      <td>0.0</td>\n",
       "      <td>0.788732</td>\n",
       "      <td>0.295455</td>\n",
       "      <td>0</td>\n",
       "      <td>0</td>\n",
       "      <td>1</td>\n",
       "      <td>0</td>\n",
       "      <td>...</td>\n",
       "      <td>0</td>\n",
       "      <td>0</td>\n",
       "      <td>0</td>\n",
       "      <td>1</td>\n",
       "      <td>0</td>\n",
       "      <td>1</td>\n",
       "      <td>0</td>\n",
       "      <td>0</td>\n",
       "      <td>0</td>\n",
       "      <td>1</td>\n",
       "    </tr>\n",
       "    <tr>\n",
       "      <th>1</th>\n",
       "      <td>0.428571</td>\n",
       "      <td>0.80</td>\n",
       "      <td>0.298507</td>\n",
       "      <td>0.0</td>\n",
       "      <td>0.676056</td>\n",
       "      <td>0.409091</td>\n",
       "      <td>1</td>\n",
       "      <td>1</td>\n",
       "      <td>0</td>\n",
       "      <td>0</td>\n",
       "      <td>...</td>\n",
       "      <td>1</td>\n",
       "      <td>0</td>\n",
       "      <td>0</td>\n",
       "      <td>1</td>\n",
       "      <td>0</td>\n",
       "      <td>1</td>\n",
       "      <td>0</td>\n",
       "      <td>0</td>\n",
       "      <td>1</td>\n",
       "      <td>0</td>\n",
       "    </tr>\n",
       "    <tr>\n",
       "      <th>2</th>\n",
       "      <td>0.183673</td>\n",
       "      <td>0.65</td>\n",
       "      <td>0.469320</td>\n",
       "      <td>0.0</td>\n",
       "      <td>0.267606</td>\n",
       "      <td>0.295455</td>\n",
       "      <td>0</td>\n",
       "      <td>0</td>\n",
       "      <td>1</td>\n",
       "      <td>0</td>\n",
       "      <td>...</td>\n",
       "      <td>0</td>\n",
       "      <td>0</td>\n",
       "      <td>0</td>\n",
       "      <td>0</td>\n",
       "      <td>1</td>\n",
       "      <td>1</td>\n",
       "      <td>0</td>\n",
       "      <td>0</td>\n",
       "      <td>0</td>\n",
       "      <td>1</td>\n",
       "    </tr>\n",
       "    <tr>\n",
       "      <th>3</th>\n",
       "      <td>0.408163</td>\n",
       "      <td>0.69</td>\n",
       "      <td>0.354892</td>\n",
       "      <td>0.0</td>\n",
       "      <td>0.338028</td>\n",
       "      <td>0.465909</td>\n",
       "      <td>1</td>\n",
       "      <td>1</td>\n",
       "      <td>0</td>\n",
       "      <td>1</td>\n",
       "      <td>...</td>\n",
       "      <td>0</td>\n",
       "      <td>0</td>\n",
       "      <td>0</td>\n",
       "      <td>1</td>\n",
       "      <td>0</td>\n",
       "      <td>0</td>\n",
       "      <td>1</td>\n",
       "      <td>0</td>\n",
       "      <td>1</td>\n",
       "      <td>0</td>\n",
       "    </tr>\n",
       "    <tr>\n",
       "      <th>4</th>\n",
       "      <td>0.530612</td>\n",
       "      <td>0.75</td>\n",
       "      <td>0.323383</td>\n",
       "      <td>0.0</td>\n",
       "      <td>0.436620</td>\n",
       "      <td>0.295455</td>\n",
       "      <td>0</td>\n",
       "      <td>0</td>\n",
       "      <td>1</td>\n",
       "      <td>0</td>\n",
       "      <td>...</td>\n",
       "      <td>1</td>\n",
       "      <td>0</td>\n",
       "      <td>0</td>\n",
       "      <td>1</td>\n",
       "      <td>0</td>\n",
       "      <td>1</td>\n",
       "      <td>0</td>\n",
       "      <td>0</td>\n",
       "      <td>0</td>\n",
       "      <td>1</td>\n",
       "    </tr>\n",
       "  </tbody>\n",
       "</table>\n",
       "<p>5 rows × 21 columns</p>\n",
       "</div>"
      ],
      "text/plain": [
       "        Age  RestingBP  Cholesterol  FastingBS     MaxHR   Oldpeak  \\\n",
       "0  0.244898       0.70     0.479270        0.0  0.788732  0.295455   \n",
       "1  0.428571       0.80     0.298507        0.0  0.676056  0.409091   \n",
       "2  0.183673       0.65     0.469320        0.0  0.267606  0.295455   \n",
       "3  0.408163       0.69     0.354892        0.0  0.338028  0.465909   \n",
       "4  0.530612       0.75     0.323383        0.0  0.436620  0.295455   \n",
       "\n",
       "   HeartDisease  Sex_F  Sex_M  ChestPainType_ASY  ...  ChestPainType_NAP  \\\n",
       "0             0      0      1                  0  ...                  0   \n",
       "1             1      1      0                  0  ...                  1   \n",
       "2             0      0      1                  0  ...                  0   \n",
       "3             1      1      0                  1  ...                  0   \n",
       "4             0      0      1                  0  ...                  1   \n",
       "\n",
       "   ChestPainType_TA  RestingECG_LVH  RestingECG_Normal  RestingECG_ST  \\\n",
       "0                 0               0                  1              0   \n",
       "1                 0               0                  1              0   \n",
       "2                 0               0                  0              1   \n",
       "3                 0               0                  1              0   \n",
       "4                 0               0                  1              0   \n",
       "\n",
       "   ExerciseAngina_N  ExerciseAngina_Y  ST_Slope_Down  ST_Slope_Flat  \\\n",
       "0                 1                 0              0              0   \n",
       "1                 1                 0              0              1   \n",
       "2                 1                 0              0              0   \n",
       "3                 0                 1              0              1   \n",
       "4                 1                 0              0              0   \n",
       "\n",
       "   ST_Slope_Up  \n",
       "0            1  \n",
       "1            0  \n",
       "2            1  \n",
       "3            0  \n",
       "4            1  \n",
       "\n",
       "[5 rows x 21 columns]"
      ]
     },
     "execution_count": 3,
     "metadata": {},
     "output_type": "execute_result"
    }
   ],
   "source": [
    "scaler = MinMaxScaler() # Normalize values for faster model training\n",
    "\n",
    "num_cols = list(df.select_dtypes('number').columns)[:-1] # We do not want to touch the target column\n",
    "df[num_cols] = scaler.fit_transform(df[num_cols])\n",
    "\n",
    "df = pd.get_dummies(df, dtype='int') # One-hot encoding\n",
    "\n",
    "df.head()"
   ]
  },
  {
   "cell_type": "code",
   "execution_count": 4,
   "id": "9e1de909-b1d9-413a-b5b9-1840a1c0e5bd",
   "metadata": {},
   "outputs": [
    {
     "data": {
      "text/plain": [
       "array([[0.24489796, 0.7       , 0.47927032, ..., 0.        , 0.        ,\n",
       "        1.        ],\n",
       "       [0.42857143, 0.8       , 0.29850746, ..., 0.        , 1.        ,\n",
       "        0.        ],\n",
       "       [0.18367347, 0.65      , 0.46932007, ..., 0.        , 0.        ,\n",
       "        1.        ],\n",
       "       ...,\n",
       "       [0.59183673, 0.65      , 0.2172471 , ..., 0.        , 1.        ,\n",
       "        0.        ],\n",
       "       [0.59183673, 0.65      , 0.39137645, ..., 0.        , 1.        ,\n",
       "        0.        ],\n",
       "       [0.20408163, 0.69      , 0.29021559, ..., 0.        , 0.        ,\n",
       "        1.        ]])"
      ]
     },
     "execution_count": 4,
     "metadata": {},
     "output_type": "execute_result"
    }
   ],
   "source": [
    "# First convert pandas DataFrame to numpy, and then later convert to PyTorch tensor\n",
    "df_numpy = df.to_numpy()\n",
    "df_numpy"
   ]
  },
  {
   "cell_type": "code",
   "execution_count": 5,
   "id": "ed7035b1-6dc9-4c9f-950d-371d8199bbfc",
   "metadata": {},
   "outputs": [
    {
     "data": {
      "text/plain": [
       "(918, 21)"
      ]
     },
     "execution_count": 5,
     "metadata": {},
     "output_type": "execute_result"
    }
   ],
   "source": [
    "df_numpy.shape"
   ]
  },
  {
   "cell_type": "code",
   "execution_count": 6,
   "id": "dc9908c7-e4cd-474a-b0d6-3cad886705af",
   "metadata": {},
   "outputs": [
    {
     "data": {
      "text/plain": [
       "(torch.Size([918, 20]), torch.Size([918]))"
      ]
     },
     "execution_count": 6,
     "metadata": {},
     "output_type": "execute_result"
    }
   ],
   "source": [
    "# The last column will act as the target vector, while the rest of the rows and columns are the input matrix\n",
    "X = torch.tensor(df_numpy[:, :-1], dtype=torch.float32)\n",
    "y = torch.tensor(df_numpy[:, -1], dtype=torch.float32)\n",
    "\n",
    "X.shape, y.shape"
   ]
  },
  {
   "cell_type": "code",
   "execution_count": 7,
   "id": "a401b149-94c9-480c-906c-eca5c7f0a5a1",
   "metadata": {},
   "outputs": [
    {
     "data": {
      "text/plain": [
       "(torch.Size([734, 20]),\n",
       " torch.Size([734]),\n",
       " torch.Size([184, 20]),\n",
       " torch.Size([184]))"
      ]
     },
     "execution_count": 7,
     "metadata": {},
     "output_type": "execute_result"
    }
   ],
   "source": [
    "# Get training and testing date\n",
    "cutoff_idx = int(len(X) * TRAIN_TEST_SPLIT)\n",
    "\n",
    "X_train, X_test = X[:cutoff_idx], X[cutoff_idx:]\n",
    "y_train, y_test = y[:cutoff_idx], y[cutoff_idx:]\n",
    "\n",
    "X_train.shape, y_train.shape, X_test.shape, y_test.shape"
   ]
  },
  {
   "cell_type": "code",
   "execution_count": 8,
   "id": "8a53791b-a4ee-40de-a2bc-c47236ed31a1",
   "metadata": {},
   "outputs": [
    {
     "data": {
      "text/plain": [
       "(734, 184)"
      ]
     },
     "execution_count": 8,
     "metadata": {},
     "output_type": "execute_result"
    }
   ],
   "source": [
    "# Create training and testing dataset\n",
    "\n",
    "class HeartFailureDataset(Dataset):\n",
    "    def __init__(self, X, y):\n",
    "        self.X = X\n",
    "        self.y = y\n",
    "\n",
    "    def __len__(self):\n",
    "        assert(len(self.X) == len(self.y))\n",
    "        return len(self.X)\n",
    "\n",
    "    def __getitem__(self, idx):\n",
    "        return self.X[idx], self.y[idx]\n",
    "\n",
    "\n",
    "train_dataset = HeartFailureDataset(X_train, y_train)\n",
    "test_dataset = HeartFailureDataset(X_test, y_test)\n",
    "\n",
    "len(train_dataset), len(test_dataset)"
   ]
  },
  {
   "cell_type": "code",
   "execution_count": 9,
   "id": "a94fbf3f-7c5d-498d-a07f-e5f6e1f0c455",
   "metadata": {},
   "outputs": [
    {
     "data": {
      "text/plain": [
       "(12, 3)"
      ]
     },
     "execution_count": 9,
     "metadata": {},
     "output_type": "execute_result"
    }
   ],
   "source": [
    "# Create train and test dataloaders for training with batches\n",
    "\n",
    "train_dataloader = DataLoader(\n",
    "    train_dataset,\n",
    "    batch_size=BATCH_SIZE,\n",
    "    shuffle=True\n",
    ")\n",
    "\n",
    "test_dataloader = DataLoader(\n",
    "    test_dataset,\n",
    "    batch_size=BATCH_SIZE,\n",
    "    shuffle=False\n",
    ")\n",
    "\n",
    "# See how many batches we have\n",
    "len(train_dataloader), len(test_dataloader)"
   ]
  },
  {
   "cell_type": "markdown",
   "id": "4920ffec-3260-4a56-8e95-4bfdccd7b28d",
   "metadata": {},
   "source": [
    "## 2. Building Neural Network"
   ]
  },
  {
   "cell_type": "code",
   "execution_count": 10,
   "id": "c74a5b56-5221-49d8-a509-3edb0ca04838",
   "metadata": {},
   "outputs": [
    {
     "data": {
      "text/plain": [
       "HeartFailureModel(\n",
       "  (classifier): Sequential(\n",
       "    (0): Linear(in_features=20, out_features=128, bias=True)\n",
       "    (1): BatchNorm1d(128, eps=1e-05, momentum=0.1, affine=True, track_running_stats=True)\n",
       "    (2): ReLU()\n",
       "    (3): Dropout(p=0.2, inplace=False)\n",
       "    (4): Linear(in_features=128, out_features=128, bias=True)\n",
       "    (5): BatchNorm1d(128, eps=1e-05, momentum=0.1, affine=True, track_running_stats=True)\n",
       "    (6): ReLU()\n",
       "    (7): Dropout(p=0.2, inplace=False)\n",
       "    (8): Linear(in_features=128, out_features=128, bias=True)\n",
       "    (9): Linear(in_features=128, out_features=128, bias=True)\n",
       "    (10): BatchNorm1d(128, eps=1e-05, momentum=0.1, affine=True, track_running_stats=True)\n",
       "    (11): ReLU()\n",
       "    (12): Dropout(p=0.2, inplace=False)\n",
       "    (13): Linear(in_features=128, out_features=128, bias=True)\n",
       "    (14): Linear(in_features=128, out_features=128, bias=True)\n",
       "    (15): BatchNorm1d(128, eps=1e-05, momentum=0.1, affine=True, track_running_stats=True)\n",
       "    (16): ReLU()\n",
       "    (17): Dropout(p=0.2, inplace=False)\n",
       "    (18): Linear(in_features=128, out_features=1, bias=True)\n",
       "  )\n",
       ")"
      ]
     },
     "execution_count": 10,
     "metadata": {},
     "output_type": "execute_result"
    }
   ],
   "source": [
    "\"\"\"\n",
    "Build a vanilla dense (fully-connected) neural network with rectified units\n",
    "\n",
    "Batch normalization is also implemented to normalize data to make training faster.\n",
    "\n",
    "Furthermore, dropout is implemented in case to mitigate the posibility of overfitting training data\n",
    "\"\"\"\n",
    "class HeartFailureModel(nn.Module):\n",
    "    def __init__(self, input_size, output_size, hidden_size):\n",
    "        super().__init__()\n",
    "\n",
    "        self.classifier = nn.Sequential(\n",
    "            nn.Linear(input_size, hidden_size),\n",
    "            nn.BatchNorm1d(num_features=hidden_size),\n",
    "            nn.ReLU(),\n",
    "            nn.Dropout(p=0.2),\n",
    "            \n",
    "            nn.Linear(hidden_size, hidden_size),\n",
    "            nn.BatchNorm1d(num_features=hidden_size),\n",
    "            nn.ReLU(),\n",
    "            nn.Dropout(p=0.2),\n",
    "            nn.Linear(hidden_size, hidden_size),\n",
    "\n",
    "            nn.Linear(hidden_size, hidden_size),\n",
    "            nn.BatchNorm1d(num_features=hidden_size),\n",
    "            nn.ReLU(),\n",
    "            nn.Dropout(p=0.2),\n",
    "            nn.Linear(hidden_size, hidden_size),\n",
    "\n",
    "            nn.Linear(hidden_size, hidden_size),\n",
    "            nn.BatchNorm1d(num_features=hidden_size),\n",
    "            nn.ReLU(),\n",
    "            nn.Dropout(p=0.2),\n",
    "            nn.Linear(hidden_size, output_size)\n",
    "        )\n",
    "\n",
    "    def forward(self, x: torch.Tensor) -> torch.Tensor:\n",
    "        return self.classifier(x)\n",
    "\n",
    "\n",
    "model = HeartFailureModel(\n",
    "    input_size=20, # The number of columns in the input matrix (X) after performing one-hot encoding during data processing\n",
    "    output_size=1, # This is just a binary classification problem, so the output is of shape 1\n",
    "    hidden_size=HIDDEN_SIZE\n",
    ")\n",
    "\n",
    "model"
   ]
  },
  {
   "cell_type": "markdown",
   "id": "0502fbbf-1cea-4bc4-aeb5-ba1e5211e1cb",
   "metadata": {},
   "source": [
    "## 3. Training & Testing Model"
   ]
  },
  {
   "cell_type": "code",
   "execution_count": 11,
   "id": "893e5daa-c1c8-4337-a4c9-68023e1fc63c",
   "metadata": {},
   "outputs": [],
   "source": [
    "# Loss function and optimizer\n",
    "loss_fn = nn.BCEWithLogitsLoss()\n",
    "optimizer = torch.optim.Adam(\n",
    "    params=model.parameters(),\n",
    "    lr=LEARNING_RATE\n",
    ")"
   ]
  },
  {
   "cell_type": "code",
   "execution_count": 12,
   "id": "6673fb24-c261-4b12-bdc2-f0575ba2e0c3",
   "metadata": {},
   "outputs": [],
   "source": [
    "# Calculate accuracy (a classification metric)\n",
    "def accuracy_fn(y_true, y_pred):\n",
    "    \"\"\"Calculates accuracy between truth labels and predictions.\n",
    "\n",
    "    Args:\n",
    "        y_true (torch.Tensor): Truth labels for predictions.\n",
    "        y_pred (torch.Tensor): Predictions to be compared to predictions.\n",
    "\n",
    "    Returns:\n",
    "        [torch.float]: Accuracy value between y_true and y_pred, e.g. 78.45\n",
    "    \"\"\"\n",
    "    correct = torch.eq(y_true, y_pred).sum().item()\n",
    "    acc = (correct / len(y_pred)) * 100\n",
    "    return acc\n",
    "\n",
    "# Model training procedure\n",
    "def train(model, dataloader, loss_fn, optimizer):\n",
    "    cur_loss, cur_acc = 0.0, 0.0\n",
    "    model.train()\n",
    "\n",
    "    for X, y in dataloader:\n",
    "        logits = model(X).squeeze()\n",
    "\n",
    "        # Remember that BCEWithLogits expected raw logits, so sigmoid function unnecessary\n",
    "        loss = loss_fn(logits, y)\n",
    "        cur_loss += loss.item()\n",
    "\n",
    "        # When calculating accuracy, however, sigmoid function is needed to output actual predictive values\n",
    "        pred = torch.round(torch.sigmoid(logits))\n",
    "        acc = accuracy_fn(y_true=y, y_pred=pred)\n",
    "        cur_acc += acc\n",
    "\n",
    "        optimizer.zero_grad()\n",
    "        loss.backward()\n",
    "        optimizer.step()\n",
    "\n",
    "    cur_loss /= len(dataloader)\n",
    "    cur_acc /= len(dataloader)\n",
    "    \n",
    "    return cur_loss, cur_acc\n",
    "\n",
    "# Model testing procedure\n",
    "def test(model, dataloader, loss_fn, optimizer):\n",
    "    cur_loss, cur_acc = 0.0, 0.0\n",
    "    model.eval()\n",
    "\n",
    "    with torch.inference_mode():\n",
    "        for X, y in dataloader:\n",
    "            logits = model(X).squeeze()\n",
    "\n",
    "            loss = loss_fn(logits, y)\n",
    "            cur_loss += loss.item()\n",
    "\n",
    "            pred = torch.round(torch.sigmoid(logits))\n",
    "            acc = accuracy_fn(y_true=y, y_pred=pred)\n",
    "            cur_acc += acc\n",
    "\n",
    "        cur_loss /= len(dataloader)\n",
    "        cur_acc /= len(dataloader)\n",
    "\n",
    "    return cur_loss, cur_acc"
   ]
  },
  {
   "cell_type": "code",
   "execution_count": 13,
   "id": "e3002530-554e-459d-b9c9-c29b7a440c56",
   "metadata": {},
   "outputs": [
    {
     "name": "stdout",
     "output_type": "stream",
     "text": [
      "Epoch: 1 | Train Loss: 0.3605 | Test Loss: 0.5814 | Train Acc: 86.9618 | Test acc: 92.5595\n",
      "Epoch: 2 | Train Loss: 0.1121 | Test Loss: 0.1842 | Train Acc: 98.5677 | Test acc: 97.8423\n",
      "Epoch: 3 | Train Loss: 0.0572 | Test Loss: 0.0513 | Train Acc: 99.7396 | Test acc: 99.4048\n",
      "Epoch: 4 | Train Loss: 0.0508 | Test Loss: 0.0168 | Train Acc: 99.4618 | Test acc: 100.0000\n",
      "Epoch: 5 | Train Loss: 0.0203 | Test Loss: 0.0114 | Train Acc: 100.0000 | Test acc: 100.0000\n",
      "Epoch: 6 | Train Loss: 0.0193 | Test Loss: 0.0094 | Train Acc: 99.8698 | Test acc: 100.0000\n",
      "Epoch: 7 | Train Loss: 0.0135 | Test Loss: 0.0075 | Train Acc: 100.0000 | Test acc: 100.0000\n",
      "Epoch: 8 | Train Loss: 0.0095 | Test Loss: 0.0065 | Train Acc: 100.0000 | Test acc: 100.0000\n",
      "Epoch: 9 | Train Loss: 0.0103 | Test Loss: 0.0051 | Train Acc: 99.8698 | Test acc: 100.0000\n",
      "Epoch: 10 | Train Loss: 0.0173 | Test Loss: 0.0047 | Train Acc: 99.3316 | Test acc: 100.0000\n"
     ]
    }
   ],
   "source": [
    "# Store loss and accuracy for model evaluation\n",
    "all_train_losses, all_test_losses = [], []\n",
    "all_train_acc, all_test_acc = [], []\n",
    "\n",
    "# Calculate running loss and accuracy during training\n",
    "running_train_loss, running_test_loss = 0.0, 0.0\n",
    "running_train_acc, running_test_acc = 0.0, 0.0\n",
    "\n",
    "# Training and testing loop\n",
    "for epoch in range(EPOCHS):\n",
    "    train_loss, train_acc = train(model, train_dataloader, loss_fn, optimizer)\n",
    "    test_loss, test_acc = test(model, test_dataloader, loss_fn, optimizer)\n",
    "\n",
    "    running_train_loss += train_loss\n",
    "    running_test_loss += test_loss\n",
    "\n",
    "    running_train_acc += train_acc\n",
    "    running_test_acc += test_acc\n",
    "\n",
    "    if (epoch + 1) % PLOT_STEPS == 0:\n",
    "        all_train_losses.append(running_train_loss / PLOT_STEPS)\n",
    "        all_test_losses.append(running_test_loss / PLOT_STEPS)\n",
    "\n",
    "        all_train_acc.append(running_train_acc / PLOT_STEPS)\n",
    "        all_test_acc.append(running_test_acc / PLOT_STEPS)\n",
    "\n",
    "        running_train_loss, running_test_loss = 0.0, 0.0\n",
    "        running_train_acc, running_test_acc = 0.0, 0.0\n",
    "\n",
    "    if (epoch + 1) % PRINT_STEPS == 0:\n",
    "        print(f\"Epoch: {epoch + 1} | Train Loss: {train_loss:.4f} | Test Loss: {test_loss:.4f} | Train Acc: {train_acc:.4f} | Test acc: {test_acc:.4f}\")"
   ]
  },
  {
   "cell_type": "markdown",
   "id": "18c33882-87dc-45e0-82be-1444a793d501",
   "metadata": {},
   "source": [
    "100% Accuracy :)"
   ]
  },
  {
   "cell_type": "code",
   "execution_count": 14,
   "id": "82404e04-59c3-4e58-8952-c200785c54d5",
   "metadata": {},
   "outputs": [
    {
     "data": {
      "image/png": "[encoded data removed]",
      "text/plain": [
       "<Figure size 640x480 with 1 Axes>"
      ]
     },
     "metadata": {},
     "output_type": "display_data"
    }
   ],
   "source": [
    "# Plot train and test loss\n",
    "plt.title(\"Train & Test Loss Curve\")\n",
    "plt.plot(all_train_losses)\n",
    "plt.plot(all_test_losses)\n",
    "plt.legend(['Training Loss', 'Test Loss'])\n",
    "plt.xlabel('Epochs')\n",
    "plt.ylabel('Loss');"
   ]
  },
  {
   "cell_type": "code",
   "execution_count": 15,
   "id": "4d3b07d3-ef70-4954-b2b3-f07e712e8bea",
   "metadata": {},
   "outputs": [
    {
     "data": {
      "image/png": "[encoded data removed]",
      "text/plain": [
       "<Figure size 640x480 with 1 Axes>"
      ]
     },
     "metadata": {},
     "output_type": "display_data"
    }
   ],
   "source": [
    "# Plot train and test accuracy\n",
    "plt.title(\"Train & Test Accuracy Curve\")\n",
    "plt.plot(all_train_acc)\n",
    "plt.plot(all_test_acc)\n",
    "plt.legend(['Training Accuracy', 'Test Accuracy'])\n",
    "plt.xlabel('Epochs')\n",
    "plt.ylabel('Accuracy');"
   ]
  }
 ],
 "metadata": {
  "kernelspec": {
   "display_name": "Python 3 (ipykernel)",
   "language": "python",
   "name": "python3"
  },
  "language_info": {
   "codemirror_mode": {
    "name": "ipython",
    "version": 3
   },
   "file_extension": ".py",
   "mimetype": "text/x-python",
   "name": "python",
   "nbconvert_exporter": "python",
   "pygments_lexer": "ipython3",
   "version": "3.11.4"
  }
 },
 "nbformat": 4,
 "nbformat_minor": 5
}
